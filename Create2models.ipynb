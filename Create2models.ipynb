{
 "cells": [
  {
   "cell_type": "code",
   "execution_count": 36,
   "id": "d2a78272-4380-4e2b-9930-1ca7b37d306f",
   "metadata": {
    "tags": []
   },
   "outputs": [],
   "source": [
    "import pandas as pd\n",
    "import matplotlib.pyplot as plt\n",
    "from datetime import datetime, timedelta\n"
   ]
  },
  {
   "cell_type": "code",
   "execution_count": 38,
   "id": "3227813e-f650-407d-9e75-5bd02c2658d1",
   "metadata": {
    "tags": []
   },
   "outputs": [],
   "source": [
    "# Replace 'your_file.csv' with the path to your CSV file\n",
    "file_path = 'DATA pswd.csv'\n",
    "\n",
    "# Read the CSV file into a DataFrame\n",
    "data = pd.read_csv(file_path)\n",
    "\n"
   ]
  },
  {
   "cell_type": "code",
   "execution_count": 39,
   "id": "012e81dc-9662-42ee-a002-baa496ea97a3",
   "metadata": {
    "tags": []
   },
   "outputs": [
    {
     "name": "stderr",
     "output_type": "stream",
     "text": [
      "C:\\Users\\almog\\AppData\\Local\\Temp\\ipykernel_11096\\226184358.py:6: UserWarning: Could not infer format, so each element will be parsed individually, falling back to `dateutil`. To ensure parsing is consistent and as-expected, please specify a format.\n",
      "  data['Time'] = pd.to_datetime(data['Time']).dt.time\n"
     ]
    }
   ],
   "source": [
    "\n",
    "# Split the 'Date' column into date and time\n",
    "data[['Date', 'Time']] = data['Date'].str.split(' ', expand=True)\n",
    "\n",
    "# Extracting date and time into separate columns and casting to appropriate types\n",
    "data['Date'] = pd.to_datetime(data['Date'], dayfirst=True).dt.date\n",
    "data['Time'] = pd.to_datetime(data['Time']).dt.time\n",
    "\n",
    "data['new_time'] = ''\n",
    "# Round each time value to the nearest hour\n",
    "data['new_time'] = [((datetime.strptime(str(time), '%H:%M:%S') + timedelta(minutes=30)).replace(minute=0)).strftime('%H:%M') if time.minute < 30 else ((datetime.strptime(str(time), '%H:%M:%S') + timedelta(hours=1)).replace(minute=0)).strftime('%H:%M') for time in data['Time']]\n",
    "\n",
    "\n",
    "\n",
    "#שינוי קאסטינג של תאריך \n",
    "data['Date'] = pd.to_datetime(data['Date'], dayfirst=True)\n",
    "\n",
    "#עיגול לשעה הכי קרובה ויצירה דאמייז\n",
    "dummies_time = pd.get_dummies(data['new_time'], prefix='Hour')\n",
    "data = pd.concat([data, dummies_time], axis=1)\n",
    "\n",
    "\n",
    "#יצירה עמודה של חודש בשבוע , ויצירה של עמודת דאממיז\n",
    "data['Date month'] =data['Date'].dt.month\n",
    "dummies_month = pd.get_dummies(data['Date month'], prefix='month')\n",
    "# Concatenate the dummies with the original DataFrame\n",
    "data = pd.concat([data, dummies_month], axis=1)\n",
    "\n",
    "\n",
    "\n",
    "#יצירה עמודה של יום בשבוע , ויצירה של עמודת דאממיז\n",
    "data['Day_of_Week'] = data['Date'].dt.day_name()\n",
    "dummies_DayOfWeek = pd.get_dummies(data['Day_of_Week'])\n",
    "# Concatenate the dummies with the original DataFrame\n",
    "data = pd.concat([data, dummies_DayOfWeek], axis=1)\n",
    "\n",
    "\n",
    "data['season'] = ''\n",
    "data.loc[data['Date month'].isin([12, 1, 2]), 'season'] = 'Winter'\n",
    "data.loc[data['Date month'].isin([3, 4, 5]), 'season'] = 'Spring'\n",
    "data.loc[data['Date month'].isin([6, 7, 8]), 'season'] = 'Summer'\n",
    "data.loc[data['Date month'].isin([9, 10, 11]), 'season'] = 'Autumn'\n",
    "\n",
    "dummies_season = pd.get_dummies(data['season'])\n",
    "# Concatenate the dummies with the original DataFrame\n",
    "data = pd.concat([data, dummies_season], axis=1)\n",
    "\n",
    "\n",
    "toint = ['month_1', 'month_2', 'month_3', 'month_4', 'month_5', 'month_6',\n",
    "       'month_7', 'month_8', 'month_9', 'month_10', 'month_11', 'month_12',\n",
    "       'Friday', 'Monday', 'Saturday', 'Sunday', 'Thursday',\n",
    "       'Tuesday', 'Wednesday','Autumn', 'Spring', 'Summer','Winter', 'Hour_00:00', 'Hour_01:00',\n",
    "       'Hour_02:00', 'Hour_03:00', 'Hour_04:00', 'Hour_05:00', 'Hour_06:00',\n",
    "       'Hour_07:00', 'Hour_08:00', 'Hour_09:00', 'Hour_10:00', 'Hour_11:00',\n",
    "       'Hour_12:00', 'Hour_13:00', 'Hour_14:00', 'Hour_15:00', 'Hour_16:00',\n",
    "       'Hour_17:00', 'Hour_18:00', 'Hour_19:00', 'Hour_20:00', 'Hour_21:00',\n",
    "       'Hour_22:00', 'Hour_23:00']\n",
    "\n",
    "data[toint] = data[toint].astype(int)\n",
    "\n",
    "column_to_drop=['Date','Time','Day_of_Week','Date month','season','new_time']\n",
    "\n",
    "# למחוק עמודה על פי שם\n",
    "\n",
    "data.drop(columns=column_to_drop, axis=1, inplace=True)\n",
    "\n"
   ]
  },
  {
   "cell_type": "code",
   "execution_count": 18,
   "id": "164712c8-8fd3-4151-b815-9e2c8a94bf29",
   "metadata": {
    "tags": []
   },
   "outputs": [
    {
     "name": "stdout",
     "output_type": "stream",
     "text": [
      "<class 'pandas.core.frame.DataFrame'>\n",
      "RangeIndex: 504583 entries, 0 to 504582\n",
      "Data columns (total 51 columns):\n",
      " #   Column       Non-Null Count   Dtype \n",
      "---  ------       --------------   ----- \n",
      " 0   Start        504583 non-null  object\n",
      " 1   End          504583 non-null  object\n",
      " 2   Travel time  504583 non-null  int64 \n",
      " 3   Type         504583 non-null  object\n",
      " 4   Hour_00:00   504583 non-null  int32 \n",
      " 5   Hour_01:00   504583 non-null  int32 \n",
      " 6   Hour_02:00   504583 non-null  int32 \n",
      " 7   Hour_03:00   504583 non-null  int32 \n",
      " 8   Hour_04:00   504583 non-null  int32 \n",
      " 9   Hour_05:00   504583 non-null  int32 \n",
      " 10  Hour_06:00   504583 non-null  int32 \n",
      " 11  Hour_07:00   504583 non-null  int32 \n",
      " 12  Hour_08:00   504583 non-null  int32 \n",
      " 13  Hour_09:00   504583 non-null  int32 \n",
      " 14  Hour_10:00   504583 non-null  int32 \n",
      " 15  Hour_11:00   504583 non-null  int32 \n",
      " 16  Hour_12:00   504583 non-null  int32 \n",
      " 17  Hour_13:00   504583 non-null  int32 \n",
      " 18  Hour_14:00   504583 non-null  int32 \n",
      " 19  Hour_15:00   504583 non-null  int32 \n",
      " 20  Hour_16:00   504583 non-null  int32 \n",
      " 21  Hour_17:00   504583 non-null  int32 \n",
      " 22  Hour_18:00   504583 non-null  int32 \n",
      " 23  Hour_19:00   504583 non-null  int32 \n",
      " 24  Hour_20:00   504583 non-null  int32 \n",
      " 25  Hour_21:00   504583 non-null  int32 \n",
      " 26  Hour_22:00   504583 non-null  int32 \n",
      " 27  Hour_23:00   504583 non-null  int32 \n",
      " 28  month_1      504583 non-null  int32 \n",
      " 29  month_2      504583 non-null  int32 \n",
      " 30  month_3      504583 non-null  int32 \n",
      " 31  month_4      504583 non-null  int32 \n",
      " 32  month_5      504583 non-null  int32 \n",
      " 33  month_6      504583 non-null  int32 \n",
      " 34  month_7      504583 non-null  int32 \n",
      " 35  month_8      504583 non-null  int32 \n",
      " 36  month_9      504583 non-null  int32 \n",
      " 37  month_10     504583 non-null  int32 \n",
      " 38  month_11     504583 non-null  int32 \n",
      " 39  month_12     504583 non-null  int32 \n",
      " 40  Friday       504583 non-null  int32 \n",
      " 41  Monday       504583 non-null  int32 \n",
      " 42  Saturday     504583 non-null  int32 \n",
      " 43  Sunday       504583 non-null  int32 \n",
      " 44  Thursday     504583 non-null  int32 \n",
      " 45  Tuesday      504583 non-null  int32 \n",
      " 46  Wednesday    504583 non-null  int32 \n",
      " 47  Autumn       504583 non-null  int32 \n",
      " 48  Spring       504583 non-null  int32 \n",
      " 49  Summer       504583 non-null  int32 \n",
      " 50  Winter       504583 non-null  int32 \n",
      "dtypes: int32(47), int64(1), object(3)\n",
      "memory usage: 105.9+ MB\n"
     ]
    }
   ],
   "source": [
    "data.info()"
   ]
  },
  {
   "cell_type": "code",
   "execution_count": 21,
   "id": "9da7495e-8b2c-4bb0-b0c2-d07a02b27a13",
   "metadata": {
    "tags": []
   },
   "outputs": [],
   "source": [
    "car_df = data[data['Type'] == 'Car'].copy()\n",
    "# Create DataFrame for Type=Pedestrian\n",
    "pedestrian_df = data[data['Type'] == 'Pedestrian'].copy()\n",
    "\n",
    "pedestrian_df.drop(['Type'], axis=1, inplace=True)\n",
    "car_df.drop(['Type'], axis=1, inplace=True)\n",
    "\n",
    "# שמירת DataFrame של Type=Car לקובץ CSV\n",
    "car_df.to_csv('car_data.csv', index=False)\n",
    "\n",
    "# שמירת DataFrame של Type=Pedestrian לקובץ CSV\n",
    "pedestrian_df.to_csv('pedestrian_data.csv', index=False)\n",
    "\n"
   ]
  },
  {
   "cell_type": "code",
   "execution_count": null,
   "id": "fffcdd74-42d5-47df-b8d7-6a347a48944f",
   "metadata": {
    "tags": []
   },
   "outputs": [],
   "source": [
    "data.head()\n"
   ]
  },
  {
   "cell_type": "code",
   "execution_count": null,
   "id": "f849f58f-b2bf-4753-9b16-661bb5106d43",
   "metadata": {},
   "outputs": [],
   "source": []
  }
 ],
 "metadata": {
  "kernelspec": {
   "display_name": "Python 3 (ipykernel)",
   "language": "python",
   "name": "python3"
  },
  "language_info": {
   "codemirror_mode": {
    "name": "ipython",
    "version": 3
   },
   "file_extension": ".py",
   "mimetype": "text/x-python",
   "name": "python",
   "nbconvert_exporter": "python",
   "pygments_lexer": "ipython3",
   "version": "3.11.8"
  }
 },
 "nbformat": 4,
 "nbformat_minor": 5
}
